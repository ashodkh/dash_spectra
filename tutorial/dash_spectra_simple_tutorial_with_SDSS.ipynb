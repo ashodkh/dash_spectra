{
 "cells": [
  {
   "cell_type": "code",
   "execution_count": 1,
   "metadata": {},
   "outputs": [],
   "source": [
    "import numpy as np\n",
    "import dash_script\n"
   ]
  },
  {
   "attachments": {},
   "cell_type": "markdown",
   "metadata": {},
   "source": [
    "First, import data. This data was obtained using the [astroML package](https://www.astroml.org/)."
   ]
  },
  {
   "cell_type": "code",
   "execution_count": 2,
   "metadata": {},
   "outputs": [
    {
     "data": {
      "text/plain": [
       "['norms',\n",
       " 'spectra',\n",
       " 'log_OIII_Hb',\n",
       " 'zerr',\n",
       " 'mu',\n",
       " 'coeffs',\n",
       " 'z',\n",
       " 'coeff1',\n",
       " 'lineindex_cln',\n",
       " 'spec_cln',\n",
       " 'coeff0',\n",
       " 'evals',\n",
       " 'mask',\n",
       " 'log_NII_Ha',\n",
       " 'evecs']"
      ]
     },
     "execution_count": 2,
     "metadata": {},
     "output_type": "execute_result"
    }
   ],
   "source": [
    "data = np.load('spec4000.npz')\n",
    "wavelength = np.load('wavelength.npz')['arr_0']\n",
    "list(data.keys())"
   ]
  },
  {
   "attachments": {},
   "cell_type": "markdown",
   "metadata": {},
   "source": [
    "Now extract spectra and x and y coordinates. In this example, we are going to plot a [BPT diagram](https://ned.ipac.caltech.edu/level5/Glossary/Essay_bpt.html). \n",
    "<br>The purpose of this module is to plot galaxies in an x-y coordinate (such as BPT), and then hover over a point to see its spectrum in real time."
   ]
  },
  {
   "cell_type": "code",
   "execution_count": 3,
   "metadata": {},
   "outputs": [],
   "source": [
    "spectra = data['spectra']\n",
    "n = spectra.shape[0]\n",
    "\n",
    "n2_ha = data['log_NII_Ha']\n",
    "o3_hb = data['log_OIII_Hb']"
   ]
  },
  {
   "attachments": {},
   "cell_type": "markdown",
   "metadata": {},
   "source": [
    "Now we call the function dash_plot_spectra from the dash_script module.<br>The line of code shown below is the minimum input required to run the function."
   ]
  },
  {
   "cell_type": "code",
   "execution_count": 4,
   "metadata": {},
   "outputs": [],
   "source": [
    "app = dash_script.dash_plot_spectra(\n",
    "    x={'n2_ha': n2_ha},\n",
    "    y={'o3_hb': o3_hb},\n",
    "    spectra=[spectra],\n",
    "    wavelength=[wavelength]\n",
    ")"
   ]
  },
  {
   "cell_type": "markdown",
   "metadata": {},
   "source": [
    "If we want to plot additional lines in the x-y plane, we can specifiy them using the additional_lines argument. \n",
    "This takes as input a list of dictionaries."
   ]
  },
  {
   "cell_type": "code",
   "execution_count": 17,
   "metadata": {},
   "outputs": [],
   "source": [
    "x1 = np.arange(-2,0,0.1)\n",
    "y1 = 0.61/(x1-0.05) + 1.3\n",
    "x2 = np.arange(-2,0.4,0.1)\n",
    "y2 = 0.61/(x2-0.47) + 1.19\n",
    "\n",
    "first_line = {\n",
    "    'x': x1,\n",
    "    'y': y1,\n",
    "    'color': 'magenta',\n",
    "    'name': 'K03',\n",
    "    'line_dash': 'solid',\n",
    "    'line_width': 8\n",
    "}\n",
    "second_line = {\n",
    "    'x': x2,\n",
    "    'y': y2,\n",
    "    'color': 'magenta',\n",
    "    'name': 'K01',\n",
    "    'line_dash': 'dash',\n",
    "    'line_width': 8\n",
    "}\n"
   ]
  },
  {
   "cell_type": "code",
   "execution_count": 18,
   "metadata": {},
   "outputs": [],
   "source": [
    "app = dash_script.dash_plot_spectra(\n",
    "    x={'n2_ha': n2_ha},\n",
    "    y={'o3_hb': o3_hb},\n",
    "    spectra=[spectra],\n",
    "    wavelength=[wavelength],\n",
    "    additional_lines=[first_line, second_line]\n",
    ")"
   ]
  },
  {
   "cell_type": "markdown",
   "metadata": {},
   "source": [
    "Finally, we can make the plots look better by specifying axis limits and color-coding the points.\n",
    "Let's color code the x-y points with redshift."
   ]
  },
  {
   "cell_type": "code",
   "execution_count": 21,
   "metadata": {},
   "outputs": [],
   "source": [
    "app = dash_script.dash_plot_spectra(\n",
    "    x={'n2_ha': n2_ha},\n",
    "    y={'o3_hb': o3_hb},\n",
    "    xlim=[-1.5,1],\n",
    "    ylim=[-1.2,1],\n",
    "    color_code={'Redshift': np.clip(data['z'],a_min=0,a_max=0.2)},\n",
    "    spectra=[spectra],\n",
    "    wavelength=[wavelength],\n",
    "    additional_lines=[first_line, second_line]\n",
    ")"
   ]
  },
  {
   "attachments": {},
   "cell_type": "markdown",
   "metadata": {},
   "source": [
    "The function returns something called a [dash app](https://dash.plotly.com/tutorial), which can be run by calling the run_server function. <br>This returns a clickable link which opens in your browser. Note that it runs on your local machine so you don't need internet to run it."
   ]
  },
  {
   "cell_type": "code",
   "execution_count": 22,
   "metadata": {},
   "outputs": [
    {
     "name": "stdout",
     "output_type": "stream",
     "text": [
      "Dash app running on http://127.0.0.1:8050/\n"
     ]
    }
   ],
   "source": [
    "if __name__ == '__main__':\n",
    "    app.run_server(debug=True, jupyter_mode=\"external\")"
   ]
  },
  {
   "cell_type": "code",
   "execution_count": null,
   "metadata": {},
   "outputs": [],
   "source": []
  }
 ],
 "metadata": {
  "kernelspec": {
   "display_name": "dash_env",
   "language": "python",
   "name": "python3"
  },
  "language_info": {
   "codemirror_mode": {
    "name": "ipython",
    "version": 3
   },
   "file_extension": ".py",
   "mimetype": "text/x-python",
   "name": "python",
   "nbconvert_exporter": "python",
   "pygments_lexer": "ipython3",
   "version": "3.12.4"
  },
  "orig_nbformat": 4
 },
 "nbformat": 4,
 "nbformat_minor": 2
}
