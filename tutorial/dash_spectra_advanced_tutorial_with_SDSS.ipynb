{
 "cells": [
  {
   "cell_type": "code",
   "execution_count": 1,
   "metadata": {},
   "outputs": [],
   "source": [
    "import numpy as np\n",
    "import dash_script\n"
   ]
  },
  {
   "attachments": {},
   "cell_type": "markdown",
   "metadata": {},
   "source": [
    "First, import data. This data was obtained using the [astroML package](https://www.astroml.org/)."
   ]
  },
  {
   "cell_type": "code",
   "execution_count": 2,
   "metadata": {},
   "outputs": [
    {
     "data": {
      "text/plain": [
       "['norms',\n",
       " 'spectra',\n",
       " 'log_OIII_Hb',\n",
       " 'zerr',\n",
       " 'mu',\n",
       " 'coeffs',\n",
       " 'z',\n",
       " 'coeff1',\n",
       " 'lineindex_cln',\n",
       " 'spec_cln',\n",
       " 'coeff0',\n",
       " 'evals',\n",
       " 'mask',\n",
       " 'log_NII_Ha',\n",
       " 'evecs']"
      ]
     },
     "execution_count": 2,
     "metadata": {},
     "output_type": "execute_result"
    }
   ],
   "source": [
    "data = np.load('spec4000.npz')\n",
    "wavelength = np.load('wavelength.npz')['arr_0']\n",
    "list(data.keys())"
   ]
  },
  {
   "attachments": {},
   "cell_type": "markdown",
   "metadata": {},
   "source": [
    "Now extract spectra and x and y coordinates. In this example, we are going to plot a [BPT diagram](https://ned.ipac.caltech.edu/level5/Glossary/Essay_bpt.html). \n",
    "<br>The purpose of this module is to plot galaxies in an x-y coordinate (such as BPT), and then hover over a point to see its spectrum in real time."
   ]
  },
  {
   "cell_type": "code",
   "execution_count": 3,
   "metadata": {},
   "outputs": [],
   "source": [
    "spectra = data['spectra']\n",
    "n = spectra.shape[0]\n",
    "\n",
    "n2_ha = data['log_NII_Ha']\n",
    "o3_hb = data['log_OIII_Hb']"
   ]
  },
  {
   "cell_type": "markdown",
   "metadata": {},
   "source": [
    "To illustrate more ways of using the dash plotting function, the code below creates additional plots that zoom-in on certain emission lines."
   ]
  },
  {
   "cell_type": "code",
   "execution_count": 26,
   "metadata": {},
   "outputs": [],
   "source": [
    "lines_to_mask = ['OII_doublet', 'OIII (5007)', 'H_alpha']\n",
    "lines_waves = [3728.5, 5008.2, 6564.6]\n",
    "masking_windows = [10, 7, 10]\n",
    "masked_spectra = np.zeros_like(spectra)\n",
    "for i in range(n):\n",
    "    masked_spectra[i,:] = spectra[i,:]\n",
    "    for l in range(len(lines_to_mask)):\n",
    "        # np.searchsorted is used to find the indices of the masking window edges\n",
    "        i1, i2 = np.searchsorted(wavelength, (lines_waves[l]-masking_windows[l], lines_waves[l]+masking_windows[l]))\n",
    "        x0, x1 = wavelength[i1-1], wavelength[i2+1]\n",
    "        y0, y1 = spectra[i,i1-1], spectra[i,i2+1]\n",
    "        # the emission line region is replaces by linearly interpolating the underlying continuum\n",
    "        masked_spectra[i,i1:i2] = np.interp(wavelength[i1:i2], [x0,x1], [y0,y1])\n",
    "        # the below if statement is to prevent masking absoprtion lines\n",
    "        if np.average(masked_spectra[i,i1:i2]) > np.average(spectra[i,i1:i2]):\n",
    "                masked_spectra[i,i1:i2] = spectra[i,i1:i2]\n",
    "\n",
    "# This dictionary is used to tell the dash function which wavelengths to zoom in on and show in subplots titled by the keys.\n",
    "# The values must be a list/array of size len(x), so if you want to use the same value for each point, you can simply do [value]*number of points\n",
    "zoom = {}\n",
    "for l in range(len(lines_to_mask)):\n",
    "     zoom.update({lines_to_mask[l]: [lines_waves[l]]*n})"
   ]
  },
  {
   "attachments": {},
   "cell_type": "markdown",
   "metadata": {},
   "source": [
    "The below function call demonstrates the features available. <br>\n",
    "The limits on the x and y axes can be set. <br>\n",
    "A custom color coding can be used in the x,y plane, with any colormap that is allowed by Plotly.<br>\n",
    "Multiple spectra can be inputted as a list, and each spectrum's color and name (to be shown in the legend) can be given.<br>\n",
    "Zoom-in subplots can be added that zoom in on particular parts of the spectra.<br>"
   ]
  },
  {
   "cell_type": "code",
   "execution_count": 27,
   "metadata": {},
   "outputs": [],
   "source": [
    "x1 = np.arange(-2,0,0.1)\n",
    "y1 = 0.61/(x1-0.05) + 1.3\n",
    "x2 = np.arange(-2,0.4,0.1)\n",
    "y2 = 0.61/(x2-0.47) + 1.19\n",
    "\n",
    "first_line = {\n",
    "    'x': x1,\n",
    "    'y': y1,\n",
    "    'color': 'magenta',\n",
    "    'name': 'K03',\n",
    "    'line_dash': 'solid',\n",
    "    'line_width': 8\n",
    "}\n",
    "second_line = {\n",
    "    'x': x2,\n",
    "    'y': y2,\n",
    "    'color': 'magenta',\n",
    "    'name': 'K01',\n",
    "    'line_dash': 'dash',\n",
    "    'line_width': 8\n",
    "}"
   ]
  },
  {
   "cell_type": "code",
   "execution_count": 28,
   "metadata": {},
   "outputs": [],
   "source": [
    "app = dash_script.dash_plot_spectra(\n",
    "    x={'n2_ha': n2_ha},\n",
    "    y={'o3_hb': o3_hb},\n",
    "    xlim=[-1.5,1],\n",
    "    ylim=[-1.2,1],\n",
    "    color_code={'redshift': np.clip(data['z'],a_min=0,a_max=0.2)},\n",
    "    cmap='Viridis',\n",
    "    additional_lines=[first_line, second_line],\n",
    "    spectra=[spectra, masked_spectra],\n",
    "    wavelength=[wavelength, wavelength],\n",
    "    spec_colors=['rgba(0,256,100,0.5)', 'rgba(256,165,0,1)'],\n",
    "    spec_names=['Observed', 'masked'],\\\n",
    "    zoom=zoom,\n",
    "    zoom_windows=[15,15,15],\n",
    "    zoom_extras = [{'OII_doublet flux': spectra[:,np.searchsorted(wavelength, lines_waves[0])]},\n",
    "                    {'OIII(5007) flux': spectra[:,np.searchsorted(wavelength, lines_waves[1])-1]},\n",
    "                    {'H_alpha flux': spectra[:,np.searchsorted(wavelength, lines_waves[2])-1]}]\n",
    ")\n"
   ]
  },
  {
   "cell_type": "code",
   "execution_count": 29,
   "metadata": {},
   "outputs": [
    {
     "name": "stdout",
     "output_type": "stream",
     "text": [
      "Dash app running on http://127.0.0.1:8050/\n"
     ]
    }
   ],
   "source": [
    "if __name__ == '__main__':\n",
    "    app.run_server(debug=True, jupyter_mode=\"external\")"
   ]
  },
  {
   "cell_type": "code",
   "execution_count": null,
   "metadata": {},
   "outputs": [],
   "source": []
  }
 ],
 "metadata": {
  "kernelspec": {
   "display_name": "dash_env",
   "language": "python",
   "name": "python3"
  },
  "language_info": {
   "codemirror_mode": {
    "name": "ipython",
    "version": 3
   },
   "file_extension": ".py",
   "mimetype": "text/x-python",
   "name": "python",
   "nbconvert_exporter": "python",
   "pygments_lexer": "ipython3",
   "version": "3.12.4"
  },
  "orig_nbformat": 4
 },
 "nbformat": 4,
 "nbformat_minor": 2
}
